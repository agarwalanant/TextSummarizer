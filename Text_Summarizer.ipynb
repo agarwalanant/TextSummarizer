{
  "nbformat": 4,
  "nbformat_minor": 0,
  "metadata": {
    "colab": {
      "name": "Text Summarizer",
      "version": "0.3.2",
      "provenance": [],
      "include_colab_link": true
    },
    "language_info": {
      "codemirror_mode": {
        "name": "ipython",
        "version": 2
      },
      "file_extension": ".py",
      "mimetype": "text/x-python",
      "name": "python",
      "nbconvert_exporter": "python",
      "pygments_lexer": "ipython2",
      "version": "2.7.11"
    },
    "kernelspec": {
      "display_name": "Python 2",
      "language": "python",
      "name": "python2"
    }
  },
  "cells": [
    {
      "cell_type": "markdown",
      "metadata": {
        "id": "view-in-github",
        "colab_type": "text"
      },
      "source": [
        "<a href=\"https://colab.research.google.com/github/agarwalanant/TextSummarizer/blob/master/Text_Summarizer.ipynb\" target=\"_parent\"><img src=\"https://colab.research.google.com/assets/colab-badge.svg\" alt=\"Open In Colab\"/></a>"
      ]
    },
    {
      "cell_type": "code",
      "metadata": {
        "id": "V9FfZ6ozzSv1",
        "colab_type": "code",
        "outputId": "77c40b4d-0923-4327-809a-2c8f3fb0ce10",
        "colab": {
          "base_uri": "https://localhost:8080/",
          "height": 120
        }
      },
      "source": [
        "from google.colab import drive\n",
        "drive.mount('/content/gdrive')\n"
      ],
      "execution_count": 0,
      "outputs": [
        {
          "output_type": "stream",
          "text": [
            "Go to this URL in a browser: https://accounts.google.com/o/oauth2/auth?client_id=947318989803-6bn6qk8qdgf4n4g3pfee6491hc0brc4i.apps.googleusercontent.com&redirect_uri=urn%3Aietf%3Awg%3Aoauth%3A2.0%3Aoob&scope=email%20https%3A%2F%2Fwww.googleapis.com%2Fauth%2Fdocs.test%20https%3A%2F%2Fwww.googleapis.com%2Fauth%2Fdrive%20https%3A%2F%2Fwww.googleapis.com%2Fauth%2Fdrive.photos.readonly%20https%3A%2F%2Fwww.googleapis.com%2Fauth%2Fpeopleapi.readonly&response_type=code\n",
            "\n",
            "Enter your authorization code:\n",
            "··········\n",
            "Mounted at /content/gdrive\n"
          ],
          "name": "stdout"
        }
      ]
    },
    {
      "cell_type": "code",
      "metadata": {
        "id": "pVmWyAEbyzbZ",
        "colab_type": "code",
        "outputId": "bf3e0436-7692-43a1-81dc-ca6a53033141",
        "colab": {
          "base_uri": "https://localhost:8080/",
          "height": 321
        }
      },
      "source": [
        "! wget http://snap.stanford.edu/data/amazon/productGraph/categoryFiles/reviews_Electronics_5.json.gz -p gdrive/My\\ Drive/"
      ],
      "execution_count": 0,
      "outputs": [
        {
          "output_type": "stream",
          "text": [
            "--2019-05-25 16:31:07--  http://snap.stanford.edu/data/amazon/productGraph/categoryFiles/reviews_Electronics_5.json.gz\n",
            "Resolving snap.stanford.edu (snap.stanford.edu)... 171.64.75.80\n",
            "Connecting to snap.stanford.edu (snap.stanford.edu)|171.64.75.80|:80... connected.\n",
            "HTTP request sent, awaiting response... 200 OK\n",
            "Length: 495854086 (473M) [application/x-gzip]\n",
            "Saving to: ‘snap.stanford.edu/data/amazon/productGraph/categoryFiles/reviews_Electronics_5.json.gz’\n",
            "\n",
            "snap.stanford.edu/d 100%[===================>] 472.88M  1.19MB/s    in 6m 13s  \n",
            "\n",
            "2019-05-25 16:37:20 (1.27 MB/s) - ‘snap.stanford.edu/data/amazon/productGraph/categoryFiles/reviews_Electronics_5.json.gz’ saved [495854086/495854086]\n",
            "\n",
            "--2019-05-25 16:37:20--  http://gdrive/My%20Drive/\n",
            "Resolving gdrive (gdrive)... failed: Name or service not known.\n",
            "wget: unable to resolve host address ‘gdrive’\n",
            "FINISHED --2019-05-25 16:37:20--\n",
            "Total wall clock time: 6m 13s\n",
            "Downloaded: 1 files, 473M in 6m 13s (1.27 MB/s)\n"
          ],
          "name": "stdout"
        }
      ]
    },
    {
      "cell_type": "code",
      "metadata": {
        "id": "3RrnPitOzw15",
        "colab_type": "code",
        "colab": {}
      },
      "source": [
        "!cp snap.stanford.edu/data/amazon/productGraph/categoryFiles/reviews_Electronics_5.json.gz gdrive/My\\ Drive/"
      ],
      "execution_count": 0,
      "outputs": []
    },
    {
      "cell_type": "code",
      "metadata": {
        "id": "v8x_PDIQ29oH",
        "colab_type": "code",
        "colab": {}
      },
      "source": [
        "!gunzip gdrive/My\\ Drive/reviews_Electronics_5.json.gz"
      ],
      "execution_count": 0,
      "outputs": []
    },
    {
      "cell_type": "code",
      "metadata": {
        "id": "QG3h6u0a8UXu",
        "colab_type": "code",
        "colab": {}
      },
      "source": [
        "import pandas as pd\n",
        "import json"
      ],
      "execution_count": 0,
      "outputs": []
    },
    {
      "cell_type": "code",
      "metadata": {
        "id": "c2DG_72h4J9k",
        "colab_type": "code",
        "colab": {}
      },
      "source": [
        "df = pd.read_json('gdrive/My Drive/reviews_Electronics_5.json', lines = True)"
      ],
      "execution_count": 0,
      "outputs": []
    },
    {
      "cell_type": "code",
      "metadata": {
        "id": "I4iPU6T208uQ",
        "colab_type": "code",
        "colab": {}
      },
      "source": [
        "df = df['reviewText']"
      ],
      "execution_count": 0,
      "outputs": []
    },
    {
      "cell_type": "code",
      "metadata": {
        "id": "mlo178lp9TGt",
        "colab_type": "code",
        "outputId": "179237f2-cad8-432c-da09-2c7ee6a8259d",
        "colab": {
          "base_uri": "https://localhost:8080/",
          "height": 1054
        }
      },
      "source": [
        ""
      ],
      "execution_count": 0,
      "outputs": [
        {
          "output_type": "execute_result",
          "data": {
            "text/plain": [
              "<bound method Series.count of 0          We got this GPS for my husband who is an (OTR)...\n",
              "1          I'm a professional OTR truck driver, and I bou...\n",
              "2          Well, what can I say.  I've had this unit in m...\n",
              "3          Not going to write a long review, even thought...\n",
              "4          I've had mine for a year and here's what we go...\n",
              "5          I am using this with a Nook HD+. It works as d...\n",
              "6          The cable is very wobbly and sometimes disconn...\n",
              "7          This adaptor is real easy to setup and use rig...\n",
              "8          This adapter easily connects my Nook HD 7&#34;...\n",
              "9          This product really works great but I found th...\n",
              "10         This item is just as was described in the orig...\n",
              "11         bought for a spare for my 9&#34; Nook HD and i...\n",
              "12         My son crewed my HD charger cord so I needed a...\n",
              "13         This is a good beefy 2 amp charger, but it cov...\n",
              "14         I lost my B&N original cable.  I looked around...\n",
              "15         It does 2A and charges a DEAD Nook in a few ho...\n",
              "16         Go to Target or Barnes and Noble instead, and ...\n",
              "17         Works well, a little pricey I think for a char...\n",
              "18         This is a great buy, compared to a $60 or more...\n",
              "19         This mount is just what I needed.  It is stron...\n",
              "20         Great deal, easy to mount and it appears to be...\n",
              "21         This mount works really well once you get it u...\n",
              "22         This wall mount does everything it's supposed ...\n",
              "23         for the price you just cant beat this item. I ...\n",
              "24         I received the mount, which was well packaged ...\n",
              "25         Took a bit of work, but used this to fit an ol...\n",
              "26         I used this for my 47&#34; Samsung. Its fit/fe...\n",
              "27         This item serves its purpose as well as any ot...\n",
              "28         I love this mount.  This is the 4th one I've b...\n",
              "29         I am very glad for buying it.  It is heavy dut...\n",
              "                                 ...                        \n",
              "1689158    Great design, no loss of sound, small enough t...\n",
              "1689159    I received this at no cost in exchange for wri...\n",
              "1689160    Want to add wireless audio streaming to your h...\n",
              "1689161    I've never seen something quite like this befo...\n",
              "1689162    ...all part of the package that comes with a p...\n",
              "1689163    The Blaster's latest was sent to me as a 'for ...\n",
              "1689164    Imagine having a speaker that can be connected...\n",
              "1689165    Received this this week and couldn't be happie...\n",
              "1689166    Wow...that's about all I have to say.  Having ...\n",
              "1689167    I've been a long time Creative customer since ...\n",
              "1689168    Update 14 July 2014: they have a white paper a...\n",
              "1689169    I've had my hands on a lot of speakers over th...\n",
              "1689170    I'm a \"get it out of the box and just plug and...\n",
              "1689171    The Creative Sound Blaster Roar puts out impre...\n",
              "1689172    The Sound Blaster Roar is one of the most perf...\n",
              "1689173    The names Creative Labs and Sound Blaster are ...\n",
              "1689174    I am not an acoustical expert nor a musician o...\n",
              "1689175    Very impressive. Loud, clear and audiophile qu...\n",
              "1689176    [Please read this review for full details and ...\n",
              "1689177    Bluetooth speakers have improved a lot over th...\n",
              "1689178    Super sonic speaker system! Can you say that 5...\n",
              "1689179    Disclosure: I received a free sample of this i...\n",
              "1689180    My short review:If you have the money to spend...\n",
              "1689181    The Creative Sound Blaster Roar has a powerful...\n",
              "1689182    Move over Bose, JBL and Klipsch! There's a new...\n",
              "1689183    Burned these in before listening to them for a...\n",
              "1689184    Some people like DJ style headphones or earbud...\n",
              "1689185    I&#8217;m a big fan of the Brainwavz S1 (actua...\n",
              "1689186    I've used theBrainwavz S1 In Ear Headphones, a...\n",
              "1689187    Normally when I receive a review sample I can ...\n",
              "Name: reviewText, Length: 1689188, dtype: object>"
            ]
          },
          "metadata": {
            "tags": []
          },
          "execution_count": 15
        }
      ]
    },
    {
      "cell_type": "code",
      "metadata": {
        "id": "ihBUBTYkykqU",
        "colab_type": "code",
        "colab": {}
      },
      "source": [
        "FN = 'train'"
      ],
      "execution_count": 0,
      "outputs": []
    },
    {
      "cell_type": "markdown",
      "metadata": {
        "id": "w2-xIyQ4ykqY",
        "colab_type": "text"
      },
      "source": [
        "you should use GPU but if it is busy then you always can fall back to your CPU"
      ]
    },
    {
      "cell_type": "code",
      "metadata": {
        "id": "xyg4uA2fykqZ",
        "colab_type": "code",
        "colab": {}
      },
      "source": [
        "import os\n",
        "# os.environ['THEANO_FLAGS'] = 'device=cpu,floatX=float32'"
      ],
      "execution_count": 0,
      "outputs": []
    },
    {
      "cell_type": "code",
      "metadata": {
        "id": "z75s-IkIykqc",
        "colab_type": "code",
        "outputId": "650e0907-c31b-46c2-852d-c2fae9b683a8",
        "colab": {
          "base_uri": "https://localhost:8080/",
          "height": 50
        }
      },
      "source": [
        "import keras\n",
        "keras.__version__"
      ],
      "execution_count": 0,
      "outputs": [
        {
          "output_type": "stream",
          "text": [
            "Using TensorFlow backend.\n"
          ],
          "name": "stderr"
        },
        {
          "output_type": "execute_result",
          "data": {
            "text/plain": [
              "'2.2.4'"
            ]
          },
          "metadata": {
            "tags": []
          },
          "execution_count": 12
        }
      ]
    },
    {
      "cell_type": "markdown",
      "metadata": {
        "id": "txcvyDS2ykql",
        "colab_type": "text"
      },
      "source": [
        "Use indexing of tokens from [vocabulary-embedding](./vocabulary-embedding.ipynb) this does not clip the indexes of the words to `vocab_size`.\n",
        "\n",
        "Use the index of outside words to replace them with several `oov` words (`oov` , `oov0`, `oov1`, ...) that appear in the same description and headline. This will allow headline generator to replace the oov with the same word in the description"
      ]
    },
    {
      "cell_type": "code",
      "metadata": {
        "id": "_OcIZRS8ykqm",
        "colab_type": "code",
        "colab": {}
      },
      "source": [
        "FN0 = 'vocabulary-embedding'"
      ],
      "execution_count": 0,
      "outputs": []
    },
    {
      "cell_type": "markdown",
      "metadata": {
        "id": "AvKGz1Nfykqs",
        "colab_type": "text"
      },
      "source": [
        "implement the \"simple\" model from http://arxiv.org/pdf/1512.01712v1.pdf"
      ]
    },
    {
      "cell_type": "markdown",
      "metadata": {
        "id": "mA91UZauykqu",
        "colab_type": "text"
      },
      "source": [
        "you can start training from a pre-existing model. This allows you to run this notebooks many times, each time using different parameters and passing the end result of one run to be the input of the next.\n",
        "\n",
        "I've started with `maxlend=0` (see below) in which the description was ignored. I then moved to start with a high `LR` and the manually lowering it. I also started with `nflips=0` in which the original headlines is used as-is and slowely moved to `12` in which half the input headline was fliped with the predictions made by the model (the paper used fixed 10%)"
      ]
    },
    {
      "cell_type": "code",
      "metadata": {
        "id": "AceiL2_pykqv",
        "colab_type": "code",
        "colab": {}
      },
      "source": [
        "FN1 = 'train'"
      ],
      "execution_count": 0,
      "outputs": []
    },
    {
      "cell_type": "markdown",
      "metadata": {
        "id": "aafkOn5Iykq3",
        "colab_type": "text"
      },
      "source": [
        "input data (`X`) is made from `maxlend` description words followed by `eos`\n",
        "followed by headline words followed by `eos`\n",
        "if description is shorter than `maxlend` it will be left padded with `empty`\n",
        "if entire data is longer than `maxlen` it will be clipped and if it is shorter it will be right padded with empty.\n",
        "\n",
        "labels (`Y`) are the headline words followed by `eos` and clipped or padded to `maxlenh`\n",
        "\n",
        "In other words the input is made from a `maxlend` half in which the description is padded from the left\n",
        "and a `maxlenh` half in which `eos` is followed by a headline followed by another `eos` if there is enough space.\n",
        "\n",
        "The labels match only the second half and \n",
        "the first label matches the `eos` at the start of the second half (following the description in the first half)"
      ]
    },
    {
      "cell_type": "code",
      "metadata": {
        "id": "pWYZEWI9ykq4",
        "colab_type": "code",
        "colab": {}
      },
      "source": [
        "maxlend=250 # 0 - if we dont want to use description at all\n",
        "maxlenh=250\n",
        "maxlen = maxlend + maxlenh\n",
        "rnn_size = 512 # must be same as 160330-word-gen\n",
        "rnn_layers = 3  # match FN1\n",
        "batch_norm=False"
      ],
      "execution_count": 0,
      "outputs": []
    },
    {
      "cell_type": "markdown",
      "metadata": {
        "id": "63RdazZOykq-",
        "colab_type": "text"
      },
      "source": [
        "the out of the first `activation_rnn_size` nodes from the top LSTM layer will be used for activation and the rest will be used to select predicted word"
      ]
    },
    {
      "cell_type": "code",
      "metadata": {
        "id": "CXiG1kfGykrF",
        "colab_type": "code",
        "colab": {}
      },
      "source": [
        "activation_rnn_size = 40 if maxlend else 0"
      ],
      "execution_count": 0,
      "outputs": []
    },
    {
      "cell_type": "code",
      "metadata": {
        "id": "XeZkQIS1ykrM",
        "colab_type": "code",
        "colab": {}
      },
      "source": [
        "# training parameters\n",
        "seed=42\n",
        "p_W, p_U, p_dense, p_emb, weight_decay = 0, 0, 0, 0, 0\n",
        "optimizer = 'adam'\n",
        "LR = 1e-4\n",
        "batch_size=64\n",
        "nflips=10"
      ],
      "execution_count": 0,
      "outputs": []
    },
    {
      "cell_type": "code",
      "metadata": {
        "id": "-0dxdERpykra",
        "colab_type": "code",
        "colab": {}
      },
      "source": [
        "nb_train_samples = 1589187\n",
        "nb_val_samples = 100000"
      ],
      "execution_count": 0,
      "outputs": []
    },
    {
      "cell_type": "markdown",
      "metadata": {
        "id": "ySryL3u_ykrd",
        "colab_type": "text"
      },
      "source": [
        "# read word embedding"
      ]
    },
    {
      "cell_type": "code",
      "metadata": {
        "id": "obTb4IJQykre",
        "colab_type": "code",
        "colab": {}
      },
      "source": [
        "import cPickle as pickle\n",
        "\n",
        "with open('data/%s.pkl'%FN0, 'rb') as fp:\n",
        "    embedding, idx2word, word2idx, glove_idx2idx = pickle.load(fp)\n",
        "vocab_size, embedding_size = embedding.shape"
      ],
      "execution_count": 0,
      "outputs": []
    },
    {
      "cell_type": "code",
      "metadata": {
        "id": "MHKOiNaOykrh",
        "colab_type": "code",
        "colab": {}
      },
      "source": [
        "with open('data/%s.data.pkl'%FN0, 'rb') as fp:\n",
        "    X, Y = pickle.load(fp)"
      ],
      "execution_count": 0,
      "outputs": []
    },
    {
      "cell_type": "code",
      "metadata": {
        "id": "NrZTyGxrykrs",
        "colab_type": "code",
        "colab": {}
      },
      "source": [
        "nb_unknown_words = 10"
      ],
      "execution_count": 0,
      "outputs": []
    },
    {
      "cell_type": "code",
      "metadata": {
        "id": "_uqb6T2mykru",
        "colab_type": "code",
        "outputId": "7fb5270b-8b56-4697-ca94-8043ebe838e5",
        "colab": {}
      },
      "source": [
        "print 'number of examples',len(X),len(Y)\n",
        "print 'dimension of embedding space for words',embedding_size\n",
        "print 'vocabulary size', vocab_size, 'the last %d words can be used as place holders for unknown/oov words'%nb_unknown_words\n",
        "print 'total number of different words',len(idx2word), len(word2idx)\n",
        "print 'number of words outside vocabulary which we can substitue using glove similarity', len(glove_idx2idx)\n",
        "print 'number of words that will be regarded as unknonw(unk)/out-of-vocabulary(oov)',len(idx2word)-vocab_size-len(glove_idx2idx)"
      ],
      "execution_count": 0,
      "outputs": [
        {
          "output_type": "stream",
          "text": [
            "number of examples 684114 684114\n",
            "dimension of embedding space for words 100\n",
            "vocabulary size 40000 the last 10 words can be used as place holders for unknown/oov words\n",
            "total number of different words 523734 523734\n",
            "number of words outside vocabulary which we can substitue using glove similarity 122377\n",
            "number of words that will be regarded as unknonw(unk)/out-of-vocabulary(oov) 361357\n"
          ],
          "name": "stdout"
        }
      ]
    },
    {
      "cell_type": "code",
      "metadata": {
        "id": "ADkNxMUyykrz",
        "colab_type": "code",
        "colab": {}
      },
      "source": [
        "for i in range(nb_unknown_words):\n",
        "    idx2word[vocab_size-1-i] = '<%d>'%i"
      ],
      "execution_count": 0,
      "outputs": []
    },
    {
      "cell_type": "markdown",
      "metadata": {
        "id": "sy8gwelPykr5",
        "colab_type": "text"
      },
      "source": [
        "when printing mark words outside vocabulary with `^` at their end"
      ]
    },
    {
      "cell_type": "code",
      "metadata": {
        "id": "gYjwG_NRykr6",
        "colab_type": "code",
        "colab": {}
      },
      "source": [
        "oov0 = vocab_size-nb_unknown_words"
      ],
      "execution_count": 0,
      "outputs": []
    },
    {
      "cell_type": "code",
      "metadata": {
        "id": "xRvCdEVXykr_",
        "colab_type": "code",
        "colab": {}
      },
      "source": [
        "for i in range(oov0, len(idx2word)):\n",
        "    idx2word[i] = idx2word[i]+'^'"
      ],
      "execution_count": 0,
      "outputs": []
    },
    {
      "cell_type": "code",
      "metadata": {
        "id": "nAnQAZSxyksC",
        "colab_type": "code",
        "outputId": "1aa27cfc-4338-4c54-b15c-bdf6c6e401d7",
        "colab": {}
      },
      "source": [
        "from sklearn.cross_validation import train_test_split\n",
        "X_train, X_test, Y_train, Y_test = train_test_split(X, Y, test_size=nb_val_samples, random_state=seed)\n",
        "len(X_train), len(Y_train), len(X_test), len(Y_test)"
      ],
      "execution_count": 0,
      "outputs": [
        {
          "output_type": "execute_result",
          "data": {
            "text/plain": [
              "(681114, 681114, 3000, 3000)"
            ]
          },
          "metadata": {
            "tags": []
          },
          "execution_count": 18
        }
      ]
    },
    {
      "cell_type": "code",
      "metadata": {
        "id": "PKX34S3GyksK",
        "colab_type": "code",
        "colab": {}
      },
      "source": [
        "del X\n",
        "del Y"
      ],
      "execution_count": 0,
      "outputs": []
    },
    {
      "cell_type": "code",
      "metadata": {
        "id": "8qYscCdLyksN",
        "colab_type": "code",
        "colab": {}
      },
      "source": [
        "empty = 0\n",
        "eos = 1\n",
        "idx2word[empty] = '_'\n",
        "idx2word[eos] = '~'"
      ],
      "execution_count": 0,
      "outputs": []
    },
    {
      "cell_type": "code",
      "metadata": {
        "id": "xjrE2ImuyksQ",
        "colab_type": "code",
        "colab": {}
      },
      "source": [
        "import numpy as np\n",
        "from keras.preprocessing import sequence\n",
        "from keras.utils import np_utils\n",
        "import random, sys"
      ],
      "execution_count": 0,
      "outputs": []
    },
    {
      "cell_type": "code",
      "metadata": {
        "id": "T2ToZ581yksZ",
        "colab_type": "code",
        "colab": {}
      },
      "source": [
        "def prt(label, x):\n",
        "    print label+':',\n",
        "    for w in x:\n",
        "        print idx2word[w],\n",
        "    print"
      ],
      "execution_count": 0,
      "outputs": []
    },
    {
      "cell_type": "code",
      "metadata": {
        "id": "IzUZ3C_Dyksd",
        "colab_type": "code",
        "outputId": "14fd8ae4-fc25-4ce0-8def-9754d67c67f3",
        "colab": {}
      },
      "source": [
        "i = 334\n",
        "prt('H',Y_train[i])\n",
        "prt('D',X_train[i])"
      ],
      "execution_count": 0,
      "outputs": [
        {
          "output_type": "stream",
          "text": [
            "H: Behold the Fastest CF Card Ever Made ( For Now )\n",
            "D: Are you worried your compact flash card wo n't be able to keep up with the demands of the upcoming 4K revolution ? Toshiba 's got your back with its new Exceria^ Pro series CF cards that boast read and write speeds of 160MB/s^ and 150MB/s^ respectively , making them the world 's fastest -- for the time being .\n"
          ],
          "name": "stdout"
        }
      ]
    },
    {
      "cell_type": "code",
      "metadata": {
        "id": "fOyf7D-Gyksg",
        "colab_type": "code",
        "outputId": "ab871f5b-e1ab-41cf-a42d-6cdf1d52ac12",
        "colab": {}
      },
      "source": [
        "i = 334\n",
        "prt('H',Y_test[i])\n",
        "prt('D',X_test[i])"
      ],
      "execution_count": 0,
      "outputs": [
        {
          "output_type": "stream",
          "text": [
            "H: Obama : Bad for Black People\n",
            "D: Are you one of the 48 % of Americans who is `` hearing too much about Barack Obama '' ? Then you certainly wo n't like this Sunday 's story by professional Democratic Party Underminer Matt Bai^ . It 's about how Barack Obama represents the End of Black Politics , because he 's a black person who white people do n't feel threatened by . In the story , Bai^ harangues^ Philadelphia mayor Michael Nutter^ about why he di\n"
          ],
          "name": "stdout"
        }
      ]
    },
    {
      "cell_type": "markdown",
      "metadata": {
        "id": "mriaiOX7yksk",
        "colab_type": "text"
      },
      "source": [
        "# Model"
      ]
    },
    {
      "cell_type": "code",
      "metadata": {
        "id": "lDc2bay7yksn",
        "colab_type": "code",
        "colab": {}
      },
      "source": [
        "from keras.models import Sequential\n",
        "from keras.layers.core import Dense, Activation, Dropout, RepeatVector, Merge\n",
        "from keras.layers.wrappers import TimeDistributed\n",
        "from keras.layers.recurrent import LSTM\n",
        "from keras.layers.embeddings import Embedding\n",
        "from keras.regularizers import l2"
      ],
      "execution_count": 0,
      "outputs": []
    },
    {
      "cell_type": "code",
      "metadata": {
        "id": "VN13Drreykss",
        "colab_type": "code",
        "colab": {}
      },
      "source": [
        "# seed weight initialization\n",
        "random.seed(seed)\n",
        "np.random.seed(seed)"
      ],
      "execution_count": 0,
      "outputs": []
    },
    {
      "cell_type": "code",
      "metadata": {
        "id": "Xy9ORpZzyksu",
        "colab_type": "code",
        "colab": {}
      },
      "source": [
        "regularizer = l2(weight_decay) if weight_decay else None"
      ],
      "execution_count": 0,
      "outputs": []
    },
    {
      "cell_type": "markdown",
      "metadata": {
        "id": "sLXAxooSyks0",
        "colab_type": "text"
      },
      "source": [
        "start with a standard stacked LSTM"
      ]
    },
    {
      "cell_type": "code",
      "metadata": {
        "id": "vav_UipMyks7",
        "colab_type": "code",
        "colab": {}
      },
      "source": [
        "model = Sequential()\n",
        "model.add(Embedding(vocab_size, embedding_size,\n",
        "                    input_length=maxlen,\n",
        "                    W_regularizer=regularizer, dropout=p_emb, weights=[embedding], mask_zero=True,\n",
        "                    name='embedding_1'))\n",
        "for i in range(rnn_layers):\n",
        "    lstm = LSTM(rnn_size, return_sequences=True, # batch_norm=batch_norm,\n",
        "                W_regularizer=regularizer, U_regularizer=regularizer,\n",
        "                b_regularizer=regularizer, dropout_W=p_W, dropout_U=p_U,\n",
        "                name='lstm_%d'%(i+1)\n",
        "                  )\n",
        "    model.add(lstm)\n",
        "    model.add(Dropout(p_dense,name='dropout_%d'%(i+1)))"
      ],
      "execution_count": 0,
      "outputs": []
    },
    {
      "cell_type": "markdown",
      "metadata": {
        "id": "TVPdJVF7yks-",
        "colab_type": "text"
      },
      "source": [
        "A special layer that reduces the input just to its headline part (second half).\n",
        "For each word in this part it concatenate the output of the previous layer (RNN)\n",
        "with a weighted average of the outputs of the description part.\n",
        "In this only the last `rnn_size - activation_rnn_size` are used from each output.\n",
        "The first `activation_rnn_size` output is used to computer the weights for the averaging."
      ]
    },
    {
      "cell_type": "code",
      "metadata": {
        "id": "kA2Pg9uWyks_",
        "colab_type": "code",
        "colab": {}
      },
      "source": [
        "from keras.layers.core import Lambda\n",
        "import keras.backend as K\n",
        "\n",
        "def simple_context(X, mask, n=activation_rnn_size, maxlend=maxlend, maxlenh=maxlenh):\n",
        "    desc, head = X[:,:maxlend,:], X[:,maxlend:,:]\n",
        "    head_activations, head_words = head[:,:,:n], head[:,:,n:]\n",
        "    desc_activations, desc_words = desc[:,:,:n], desc[:,:,n:]\n",
        "    \n",
        "    # RTFM http://deeplearning.net/software/theano/library/tensor/basic.html#theano.tensor.batched_tensordot\n",
        "    # activation for every head word and every desc word\n",
        "    activation_energies = K.batch_dot(head_activations, desc_activations, axes=(2,2))\n",
        "    # make sure we dont use description words that are masked out\n",
        "    activation_energies = activation_energies + -1e20*K.expand_dims(1.-K.cast(mask[:, :maxlend],'float32'),1)\n",
        "    \n",
        "    # for every head word compute weights for every desc word\n",
        "    activation_energies = K.reshape(activation_energies,(-1,maxlend))\n",
        "    activation_weights = K.softmax(activation_energies)\n",
        "    activation_weights = K.reshape(activation_weights,(-1,maxlenh,maxlend))\n",
        "\n",
        "    # for every head word compute weighted average of desc words\n",
        "    desc_avg_word = K.batch_dot(activation_weights, desc_words, axes=(2,1))\n",
        "    return K.concatenate((desc_avg_word, head_words))\n",
        "\n",
        "\n",
        "class SimpleContext(Lambda):\n",
        "    def __init__(self,**kwargs):\n",
        "        super(SimpleContext, self).__init__(simple_context,**kwargs)\n",
        "        self.supports_masking = True\n",
        "\n",
        "    def compute_mask(self, input, input_mask=None):\n",
        "        return input_mask[:, maxlend:]\n",
        "    \n",
        "    def get_output_shape_for(self, input_shape):\n",
        "        nb_samples = input_shape[0]\n",
        "        n = 2*(rnn_size - activation_rnn_size)\n",
        "        return (nb_samples, maxlenh, n)"
      ],
      "execution_count": 0,
      "outputs": []
    },
    {
      "cell_type": "code",
      "metadata": {
        "id": "FJH0z4KfyktB",
        "colab_type": "code",
        "colab": {}
      },
      "source": [
        "if activation_rnn_size:\n",
        "    model.add(SimpleContext(name='simplecontext_1'))\n",
        "model.add(TimeDistributed(Dense(vocab_size,\n",
        "                                W_regularizer=regularizer, b_regularizer=regularizer,\n",
        "                                name = 'timedistributed_1')))\n",
        "model.add(Activation('softmax', name='activation_1'))"
      ],
      "execution_count": 0,
      "outputs": []
    },
    {
      "cell_type": "code",
      "metadata": {
        "id": "mlyLVuaqyktE",
        "colab_type": "code",
        "colab": {}
      },
      "source": [
        "from keras.optimizers import Adam, RMSprop # usually I prefer Adam but article used rmsprop\n",
        "# opt = Adam(lr=LR)  # keep calm and reduce learning rate\n",
        "model.compile(loss='categorical_crossentropy', optimizer=optimizer)"
      ],
      "execution_count": 0,
      "outputs": []
    },
    {
      "cell_type": "code",
      "metadata": {
        "id": "-c7kuMvfyktI",
        "colab_type": "code",
        "outputId": "3cb450af-3041-47c1-e708-3f2ff3f170c5",
        "colab": {}
      },
      "source": [
        "%%javascript\n",
        "// new Audio(\"http://www.soundjay.com/button/beep-09.wav\").play ()"
      ],
      "execution_count": 0,
      "outputs": [
        {
          "output_type": "display_data",
          "data": {
            "application/javascript": [
              "// new Audio(\"http://www.soundjay.com/button/beep-09.wav\").play ()"
            ],
            "text/plain": [
              "<IPython.core.display.Javascript object>"
            ]
          },
          "metadata": {
            "tags": []
          }
        }
      ]
    },
    {
      "cell_type": "code",
      "metadata": {
        "id": "B_uC_vJyyktO",
        "colab_type": "code",
        "colab": {}
      },
      "source": [
        "K.set_value(model.optimizer.lr,np.float32(LR))"
      ],
      "execution_count": 0,
      "outputs": []
    },
    {
      "cell_type": "code",
      "metadata": {
        "id": "eEI2Wo7-yktR",
        "colab_type": "code",
        "colab": {}
      },
      "source": [
        "def str_shape(x):\n",
        "    return 'x'.join(map(str,x.shape))\n",
        "    \n",
        "def inspect_model(model):\n",
        "    for i,l in enumerate(model.layers):\n",
        "        print i, 'cls=%s name=%s'%(type(l).__name__, l.name)\n",
        "        weights = l.get_weights()\n",
        "        for weight in weights:\n",
        "            print str_shape(weight),\n",
        "        print"
      ],
      "execution_count": 0,
      "outputs": []
    },
    {
      "cell_type": "code",
      "metadata": {
        "id": "VX-wumyNyktT",
        "colab_type": "code",
        "outputId": "2f6d2811-0c0a-40c3-f276-d6c4d91042cd",
        "colab": {}
      },
      "source": [
        "inspect_model(model)"
      ],
      "execution_count": 0,
      "outputs": [
        {
          "output_type": "stream",
          "text": [
            "0 cls=Embedding name=embedding_1\n",
            "40000x100\n",
            "1 cls=LSTM name=lstm_1\n",
            "100x512 512x512 512 100x512 512x512 512 100x512 512x512 512 100x512 512x512 512\n",
            "2 cls=Dropout name=dropout_1\n",
            "\n",
            "3 cls=LSTM name=lstm_2\n",
            "512x512 512x512 512 512x512 512x512 512 512x512 512x512 512 512x512 512x512 512\n",
            "4 cls=Dropout name=dropout_2\n",
            "\n",
            "5 cls=LSTM name=lstm_3\n",
            "512x512 512x512 512 512x512 512x512 512 512x512 512x512 512 512x512 512x512 512\n",
            "6 cls=Dropout name=dropout_3\n",
            "\n",
            "7 cls=SimpleContext name=simplecontext_1\n",
            "\n",
            "8 cls=TimeDistributed name=timedistributed_1\n",
            "944x40000 40000\n",
            "9 cls=Activation name=activation_1\n",
            "\n"
          ],
          "name": "stdout"
        }
      ]
    },
    {
      "cell_type": "markdown",
      "metadata": {
        "id": "KcGQ2hmQyktX",
        "colab_type": "text"
      },
      "source": [
        "# Load"
      ]
    },
    {
      "cell_type": "code",
      "metadata": {
        "id": "Jk2E-VHTyktZ",
        "colab_type": "code",
        "colab": {}
      },
      "source": [
        "if FN1 and os.path.exists('data/%s.hdf5'%FN1):\n",
        "    model.load_weights('data/%s.hdf5'%FN1)"
      ],
      "execution_count": 0,
      "outputs": []
    },
    {
      "cell_type": "markdown",
      "metadata": {
        "id": "RrWcHtKcyktd",
        "colab_type": "text"
      },
      "source": [
        "# Test"
      ]
    },
    {
      "cell_type": "code",
      "metadata": {
        "id": "XSxgrdHkykte",
        "colab_type": "code",
        "colab": {}
      },
      "source": [
        "def lpadd(x, maxlend=maxlend, eos=eos):\n",
        "    \"\"\"left (pre) pad a description to maxlend and then add eos.\n",
        "    The eos is the input to predicting the first word in the headline\n",
        "    \"\"\"\n",
        "    assert maxlend >= 0\n",
        "    if maxlend == 0:\n",
        "        return [eos]\n",
        "    n = len(x)\n",
        "    if n > maxlend:\n",
        "        x = x[-maxlend:]\n",
        "        n = maxlend\n",
        "    return [empty]*(maxlend-n) + x + [eos]"
      ],
      "execution_count": 0,
      "outputs": []
    },
    {
      "cell_type": "code",
      "metadata": {
        "id": "KQ1UKHxpyktg",
        "colab_type": "code",
        "colab": {}
      },
      "source": [
        "samples = [lpadd([3]*26)]\n",
        "# pad from right (post) so the first maxlend will be description followed by headline\n",
        "data = sequence.pad_sequences(samples, maxlen=maxlen, value=empty, padding='post', truncating='post')"
      ],
      "execution_count": 0,
      "outputs": []
    },
    {
      "cell_type": "code",
      "metadata": {
        "id": "uE0Tw-LXyktl",
        "colab_type": "code",
        "outputId": "ab6335b8-cadb-45b9-9f72-a8a39c1617e2",
        "colab": {}
      },
      "source": [
        "np.all(data[:,maxlend] == eos)"
      ],
      "execution_count": 0,
      "outputs": [
        {
          "output_type": "execute_result",
          "data": {
            "text/plain": [
              "True"
            ]
          },
          "metadata": {
            "tags": []
          },
          "execution_count": 38
        }
      ]
    },
    {
      "cell_type": "code",
      "metadata": {
        "id": "BnS7DcNDykty",
        "colab_type": "code",
        "outputId": "4711d84c-f782-451b-9506-269bc5ae6123",
        "colab": {}
      },
      "source": [
        "data.shape,map(len, samples)"
      ],
      "execution_count": 0,
      "outputs": [
        {
          "output_type": "execute_result",
          "data": {
            "text/plain": [
              "((1, 50), [26])"
            ]
          },
          "metadata": {
            "tags": []
          },
          "execution_count": 39
        }
      ]
    },
    {
      "cell_type": "code",
      "metadata": {
        "id": "w8RAvHWGykt-",
        "colab_type": "code",
        "outputId": "e6a0d07c-f778-40e1-c0a8-f3bbfbf7f1da",
        "colab": {}
      },
      "source": [
        "probs = model.predict(data, verbose=0, batch_size=1)\n",
        "probs.shape"
      ],
      "execution_count": 0,
      "outputs": [
        {
          "output_type": "execute_result",
          "data": {
            "text/plain": [
              "(1, 25, 40000)"
            ]
          },
          "metadata": {
            "tags": []
          },
          "execution_count": 40
        }
      ]
    },
    {
      "cell_type": "markdown",
      "metadata": {
        "id": "CYIkBrxTykuL",
        "colab_type": "text"
      },
      "source": [
        "# Sample generation"
      ]
    },
    {
      "cell_type": "markdown",
      "metadata": {
        "id": "12EXzuM1ykuM",
        "colab_type": "text"
      },
      "source": [
        "this section is only used to generate examples. you can skip it if you just want to understand how the training works"
      ]
    },
    {
      "cell_type": "code",
      "metadata": {
        "id": "XX4kZ_4oykuO",
        "colab_type": "code",
        "colab": {}
      },
      "source": [
        "# variation to https://github.com/ryankiros/skip-thoughts/blob/master/decoding/search.py\n",
        "def beamsearch(predict, start=[empty]*maxlend + [eos],\n",
        "               k=1, maxsample=maxlen, use_unk=True, empty=empty, eos=eos, temperature=1.0):\n",
        "    \"\"\"return k samples (beams) and their NLL scores, each sample is a sequence of labels,\n",
        "    all samples starts with an `empty` label and end with `eos` or truncated to length of `maxsample`.\n",
        "    You need to supply `predict` which returns the label probability of each sample.\n",
        "    `use_unk` allow usage of `oov` (out-of-vocabulary) label in samples\n",
        "    \"\"\"\n",
        "    def sample(energy, n, temperature=temperature):\n",
        "        \"\"\"sample at most n elements according to their energy\"\"\"\n",
        "        n = min(n,len(energy))\n",
        "        prb = np.exp(-np.array(energy) / temperature )\n",
        "        res = []\n",
        "        for i in xrange(n):\n",
        "            z = np.sum(prb)\n",
        "            r = np.argmax(np.random.multinomial(1, prb/z, 1))\n",
        "            res.append(r)\n",
        "            prb[r] = 0. # make sure we select each element only once\n",
        "        return res\n",
        "\n",
        "    dead_k = 0 # samples that reached eos\n",
        "    dead_samples = []\n",
        "    dead_scores = []\n",
        "    live_k = 1 # samples that did not yet reached eos\n",
        "    live_samples = [list(start)]\n",
        "    live_scores = [0]\n",
        "\n",
        "    while live_k:\n",
        "        # for every possible live sample calc prob for every possible label \n",
        "        probs = predict(live_samples, empty=empty)\n",
        "\n",
        "        # total score for every sample is sum of -log of word prb\n",
        "        cand_scores = np.array(live_scores)[:,None] - np.log(probs)\n",
        "        cand_scores[:,empty] = 1e20\n",
        "        if not use_unk:\n",
        "            for i in range(nb_unknown_words):\n",
        "                cand_scores[:,vocab_size - 1 - i] = 1e20\n",
        "        live_scores = list(cand_scores.flatten())\n",
        "        \n",
        "\n",
        "        # find the best (lowest) scores we have from all possible dead samples and\n",
        "        # all live samples and all possible new words added\n",
        "        scores = dead_scores + live_scores\n",
        "        ranks = sample(scores, k)\n",
        "        n = len(dead_scores)\n",
        "        ranks_dead = [r for r in ranks if r < n]\n",
        "        ranks_live = [r - n for r in ranks if r >= n]\n",
        "        \n",
        "        dead_scores = [dead_scores[r] for r in ranks_dead]\n",
        "        dead_samples = [dead_samples[r] for r in ranks_dead]\n",
        "        \n",
        "        live_scores = [live_scores[r] for r in ranks_live]\n",
        "\n",
        "        # append the new words to their appropriate live sample\n",
        "        voc_size = probs.shape[1]\n",
        "        live_samples = [live_samples[r//voc_size]+[r%voc_size] for r in ranks_live]\n",
        "\n",
        "        # live samples that should be dead are...\n",
        "        # even if len(live_samples) == maxsample we dont want it dead because we want one\n",
        "        # last prediction out of it to reach a headline of maxlenh\n",
        "        zombie = [s[-1] == eos or len(s) > maxsample for s in live_samples]\n",
        "        \n",
        "        # add zombies to the dead\n",
        "        dead_samples += [s for s,z in zip(live_samples,zombie) if z]\n",
        "        dead_scores += [s for s,z in zip(live_scores,zombie) if z]\n",
        "        dead_k = len(dead_samples)\n",
        "        # remove zombies from the living \n",
        "        live_samples = [s for s,z in zip(live_samples,zombie) if not z]\n",
        "        live_scores = [s for s,z in zip(live_scores,zombie) if not z]\n",
        "        live_k = len(live_samples)\n",
        "\n",
        "    return dead_samples + live_samples, dead_scores + live_scores"
      ],
      "execution_count": 0,
      "outputs": []
    },
    {
      "cell_type": "code",
      "metadata": {
        "id": "_-9DJtzVykuW",
        "colab_type": "code",
        "colab": {}
      },
      "source": [
        "# !pip install python-Levenshtein"
      ],
      "execution_count": 0,
      "outputs": []
    },
    {
      "cell_type": "code",
      "metadata": {
        "id": "GDA9oMCHykuZ",
        "colab_type": "code",
        "colab": {}
      },
      "source": [
        "def keras_rnn_predict(samples, empty=empty, model=model, maxlen=maxlen):\n",
        "    \"\"\"for every sample, calculate probability for every possible label\n",
        "    you need to supply your RNN model and maxlen - the length of sequences it can handle\n",
        "    \"\"\"\n",
        "    sample_lengths = map(len, samples)\n",
        "    assert all(l > maxlend for l in sample_lengths)\n",
        "    assert all(l[maxlend] == eos for l in samples)\n",
        "    # pad from right (post) so the first maxlend will be description followed by headline\n",
        "    data = sequence.pad_sequences(samples, maxlen=maxlen, value=empty, padding='post', truncating='post')\n",
        "    probs = model.predict(data, verbose=0, batch_size=batch_size)\n",
        "    return np.array([prob[sample_length-maxlend-1] for prob, sample_length in zip(probs, sample_lengths)])"
      ],
      "execution_count": 0,
      "outputs": []
    },
    {
      "cell_type": "code",
      "metadata": {
        "id": "V_fEdAieykug",
        "colab_type": "code",
        "colab": {}
      },
      "source": [
        "def vocab_fold(xs):\n",
        "    \"\"\"convert list of word indexes that may contain words outside vocab_size to words inside.\n",
        "    If a word is outside, try first to use glove_idx2idx to find a similar word inside.\n",
        "    If none exist then replace all accurancies of the same unknown word with <0>, <1>, ...\n",
        "    \"\"\"\n",
        "    xs = [x if x < oov0 else glove_idx2idx.get(x,x) for x in xs]\n",
        "    # the more popular word is <0> and so on\n",
        "    outside = sorted([x for x in xs if x >= oov0])\n",
        "    # if there are more than nb_unknown_words oov words then put them all in nb_unknown_words-1\n",
        "    outside = dict((x,vocab_size-1-min(i, nb_unknown_words-1)) for i, x in enumerate(outside))\n",
        "    xs = [outside.get(x,x) for x in xs]\n",
        "    return xs"
      ],
      "execution_count": 0,
      "outputs": []
    },
    {
      "cell_type": "code",
      "metadata": {
        "id": "WDS9VR4Xykuk",
        "colab_type": "code",
        "colab": {}
      },
      "source": [
        "def vocab_unfold(desc,xs):\n",
        "    # assume desc is the unfolded version of the start of xs\n",
        "    unfold = {}\n",
        "    for i, unfold_idx in enumerate(desc):\n",
        "        fold_idx = xs[i]\n",
        "        if fold_idx >= oov0:\n",
        "            unfold[fold_idx] = unfold_idx\n",
        "    return [unfold.get(x,x) for x in xs]"
      ],
      "execution_count": 0,
      "outputs": []
    },
    {
      "cell_type": "code",
      "metadata": {
        "id": "d7mCBuRmykuo",
        "colab_type": "code",
        "colab": {}
      },
      "source": [
        "import sys\n",
        "import Levenshtein\n",
        "\n",
        "def gensamples(skips=2, k=10, batch_size=batch_size, short=True, temperature=1., use_unk=True):\n",
        "    i = random.randint(0,len(X_test)-1)\n",
        "    print 'HEAD:',' '.join(idx2word[w] for w in Y_test[i][:maxlenh])\n",
        "    print 'DESC:',' '.join(idx2word[w] for w in X_test[i][:maxlend])\n",
        "    sys.stdout.flush()\n",
        "\n",
        "    print 'HEADS:'\n",
        "    x = X_test[i]\n",
        "    samples = []\n",
        "    if maxlend == 0:\n",
        "        skips = [0]\n",
        "    else:\n",
        "        skips = range(min(maxlend,len(x)), max(maxlend,len(x)), abs(maxlend - len(x)) // skips + 1)\n",
        "    for s in skips:\n",
        "        start = lpadd(x[:s])\n",
        "        fold_start = vocab_fold(start)\n",
        "        sample, score = beamsearch(predict=keras_rnn_predict, start=fold_start, k=k, temperature=temperature, use_unk=use_unk)\n",
        "        assert all(s[maxlend] == eos for s in sample)\n",
        "        samples += [(s,start,scr) for s,scr in zip(sample,score)]\n",
        "\n",
        "    samples.sort(key=lambda x: x[-1])\n",
        "    codes = []\n",
        "    for sample, start, score in samples:\n",
        "        code = ''\n",
        "        words = []\n",
        "        sample = vocab_unfold(start, sample)[len(start):]\n",
        "        for w in sample:\n",
        "            if w == eos:\n",
        "                break\n",
        "            words.append(idx2word[w])\n",
        "            code += chr(w//(256*256)) + chr((w//256)%256) + chr(w%256)\n",
        "        if short:\n",
        "            distance = min([100] + [-Levenshtein.jaro(code,c) for c in codes])\n",
        "            if distance > -0.6:\n",
        "                print score, ' '.join(words)\n",
        "        #         print '%s (%.2f) %f'%(' '.join(words), score, distance)\n",
        "        else:\n",
        "                print score, ' '.join(words)\n",
        "        codes.append(code)"
      ],
      "execution_count": 0,
      "outputs": []
    },
    {
      "cell_type": "code",
      "metadata": {
        "id": "_U980eMdykuy",
        "colab_type": "code",
        "outputId": "1831d36c-e279-454d-b9b4-8bfa8f7f5b43",
        "colab": {}
      },
      "source": [
        "gensamples(skips=2, batch_size=batch_size, k=10, temperature=1.)"
      ],
      "execution_count": 0,
      "outputs": [
        {
          "output_type": "stream",
          "text": [
            "HEAD: Top 10 Reasons Why Ines Sainz Is A Story\n",
            "DESC: Can we be honest ? Let 's be honest . The real reason the Ines Sainz story has gained traction is because media outlets can show the following pictures ad infinitum^ ( `` ass infinitum^ '' ? ) . Wolf Blitzer 's beard is going to get all dewy^ from creep sweat . How about we just get it out of our system all at once ?\n",
            "HEADS:\n",
            "20.1983996954 Media Bubble : <0>^ , Chuck Norris\n"
          ],
          "name": "stdout"
        }
      ]
    },
    {
      "cell_type": "markdown",
      "metadata": {
        "id": "-ERDgcnryku0",
        "colab_type": "text"
      },
      "source": [
        "# Data generator"
      ]
    },
    {
      "cell_type": "markdown",
      "metadata": {
        "id": "rueBORN8yku1",
        "colab_type": "text"
      },
      "source": [
        "Data generator generates batches of inputs and outputs/labels for training. The inputs are each made from two parts. The first maxlend words are the original description, followed by `eos` followed by the headline which we want to predict, except for the last word in the headline which is always `eos` and then `empty` padding until `maxlen` words.\n",
        "\n",
        "For each, input, the output is the headline words (without the start `eos` but with the ending `eos`) padded with `empty` words up to `maxlenh` words. The output is also expanded to be y-hot encoding of each word."
      ]
    },
    {
      "cell_type": "markdown",
      "metadata": {
        "id": "61DeXyBwyku1",
        "colab_type": "text"
      },
      "source": [
        "To be more realistic, the second part of the input should be the result of generation and not the original headline.\n",
        "Instead we will flip just `nflips` words to be from the generator, but even this is too hard and instead\n",
        "implement flipping in a naive way (which consumes less time.) Using the full input (description + eos + headline) generate predictions for outputs. For nflips random words from the output, replace the original word with the word with highest probability from the prediction."
      ]
    },
    {
      "cell_type": "code",
      "metadata": {
        "id": "zpXMbRUryku2",
        "colab_type": "code",
        "colab": {}
      },
      "source": [
        "def flip_headline(x, nflips=None, model=None, debug=False):\n",
        "    \"\"\"given a vectorized input (after `pad_sequences`) flip some of the words in the second half (headline)\n",
        "    with words predicted by the model\n",
        "    \"\"\"\n",
        "    if nflips is None or model is None or nflips <= 0:\n",
        "        return x\n",
        "    \n",
        "    batch_size = len(x)\n",
        "    assert np.all(x[:,maxlend] == eos)\n",
        "    probs = model.predict(x, verbose=0, batch_size=batch_size)\n",
        "    x_out = x.copy()\n",
        "    for b in range(batch_size):\n",
        "        # pick locations we want to flip\n",
        "        # 0...maxlend-1 are descriptions and should be fixed\n",
        "        # maxlend is eos and should be fixed\n",
        "        flips = sorted(random.sample(xrange(maxlend+1,maxlen), nflips))\n",
        "        if debug and b < debug:\n",
        "            print b,\n",
        "        for input_idx in flips:\n",
        "            if x[b,input_idx] == empty or x[b,input_idx] == eos:\n",
        "                continue\n",
        "            # convert from input location to label location\n",
        "            # the output at maxlend (when input is eos) is feed as input at maxlend+1\n",
        "            label_idx = input_idx - (maxlend+1)\n",
        "            prob = probs[b, label_idx]\n",
        "            w = prob.argmax()\n",
        "            if w == empty:  # replace accidental empty with oov\n",
        "                w = oov0\n",
        "            if debug and b < debug:\n",
        "                print '%s => %s'%(idx2word[x_out[b,input_idx]],idx2word[w]),\n",
        "            x_out[b,input_idx] = w\n",
        "        if debug and b < debug:\n",
        "            print\n",
        "    return x_out"
      ],
      "execution_count": 0,
      "outputs": []
    },
    {
      "cell_type": "code",
      "metadata": {
        "id": "vCIr98qyyku6",
        "colab_type": "code",
        "colab": {}
      },
      "source": [
        "def conv_seq_labels(xds, xhs, nflips=None, model=None, debug=False):\n",
        "    \"\"\"description and hedlines are converted to padded input vectors. headlines are one-hot to label\"\"\"\n",
        "    batch_size = len(xhs)\n",
        "    assert len(xds) == batch_size\n",
        "    x = [vocab_fold(lpadd(xd)+xh) for xd,xh in zip(xds,xhs)]  # the input does not have 2nd eos\n",
        "    x = sequence.pad_sequences(x, maxlen=maxlen, value=empty, padding='post', truncating='post')\n",
        "    x = flip_headline(x, nflips=nflips, model=model, debug=debug)\n",
        "    \n",
        "    y = np.zeros((batch_size, maxlenh, vocab_size))\n",
        "    for i, xh in enumerate(xhs):\n",
        "        xh = vocab_fold(xh) + [eos] + [empty]*maxlenh  # output does have a eos at end\n",
        "        xh = xh[:maxlenh]\n",
        "        y[i,:,:] = np_utils.to_categorical(xh, vocab_size)\n",
        "        \n",
        "    return x, y"
      ],
      "execution_count": 0,
      "outputs": []
    },
    {
      "cell_type": "code",
      "metadata": {
        "id": "OOkk5lKlykvB",
        "colab_type": "code",
        "colab": {}
      },
      "source": [
        "def gen(Xd, Xh, batch_size=batch_size, nb_batches=None, nflips=None, model=None, debug=False, seed=seed):\n",
        "    \"\"\"yield batches. for training use nb_batches=None\n",
        "    for validation generate deterministic results repeating every nb_batches\n",
        "    \n",
        "    while training it is good idea to flip once in a while the values of the headlines from the\n",
        "    value taken from Xh to value generated by the model.\n",
        "    \"\"\"\n",
        "    c = nb_batches if nb_batches else 0\n",
        "    while True:\n",
        "        xds = []\n",
        "        xhs = []\n",
        "        if nb_batches and c >= nb_batches:\n",
        "            c = 0\n",
        "        new_seed = random.randint(0, sys.maxint)\n",
        "        random.seed(c+123456789+seed)\n",
        "        for b in range(batch_size):\n",
        "            t = random.randint(0,len(Xd)-1)\n",
        "\n",
        "            xd = Xd[t]\n",
        "            s = random.randint(min(maxlend,len(xd)), max(maxlend,len(xd)))\n",
        "            xds.append(xd[:s])\n",
        "            \n",
        "            xh = Xh[t]\n",
        "            s = random.randint(min(maxlenh,len(xh)), max(maxlenh,len(xh)))\n",
        "            xhs.append(xh[:s])\n",
        "\n",
        "        # undo the seeding before we yield inorder not to affect the caller\n",
        "        c+= 1\n",
        "        random.seed(new_seed)\n",
        "\n",
        "        yield conv_seq_labels(xds, xhs, nflips=nflips, model=model, debug=debug)"
      ],
      "execution_count": 0,
      "outputs": []
    },
    {
      "cell_type": "code",
      "metadata": {
        "id": "GEEbf83zykvF",
        "colab_type": "code",
        "outputId": "6626e2d6-1176-427d-c35b-540f86b13516",
        "colab": {}
      },
      "source": [
        "r = next(gen(X_train, Y_train, batch_size=batch_size))\n",
        "r[0].shape, r[1].shape, len(r)"
      ],
      "execution_count": 0,
      "outputs": [
        {
          "output_type": "execute_result",
          "data": {
            "text/plain": [
              "((64, 50), (64, 25, 40000), 2)"
            ]
          },
          "metadata": {
            "tags": []
          },
          "execution_count": 51
        }
      ]
    },
    {
      "cell_type": "code",
      "metadata": {
        "id": "gxOUsISvykvJ",
        "colab_type": "code",
        "colab": {}
      },
      "source": [
        "def test_gen(gen, n=5):\n",
        "    Xtr,Ytr = next(gen)\n",
        "    for i in range(n):\n",
        "        assert Xtr[i,maxlend] == eos\n",
        "        x = Xtr[i,:maxlend]\n",
        "        y = Xtr[i,maxlend:]\n",
        "        yy = Ytr[i,:]\n",
        "        yy = np.where(yy)[1]\n",
        "        prt('L',yy)\n",
        "        prt('H',y)\n",
        "        if maxlend:\n",
        "            prt('D',x)"
      ],
      "execution_count": 0,
      "outputs": []
    },
    {
      "cell_type": "code",
      "metadata": {
        "id": "HUwcBsi0ykvQ",
        "colab_type": "code",
        "outputId": "4a8d63a7-51f0-4db7-b6a8-66c99e30d4a4",
        "colab": {}
      },
      "source": [
        "test_gen(gen(X_train, Y_train, batch_size=batch_size))"
      ],
      "execution_count": 0,
      "outputs": [
        {
          "output_type": "stream",
          "text": [
            "L: Rockets GM Daryl O'Keefe Has A implausible And geometry Reason For Giving Money To Mitt Romney ~ _ _ _ _ _ _ _ _\n",
            "H: ~ Rockets GM Daryl O'Keefe Has A implausible And geometry Reason For Giving Money To Mitt Romney _ _ _ _ _ _ _ _\n",
            "D: personal views , but no one really seems to like Mitt for his essential <0>^ . But Daryl O'Keefe , the Houston Rockets general manager\n",
            "L: Today 's Celebrity Twitter Chatter ~ _ _ _ _ _ _ _ _ _ _ _ _ _ _ _ _ _ _ _\n",
            "H: ~ Today 's Celebrity Twitter Chatter _ _ _ _ _ _ _ _ _ _ _ _ _ _ _ _ _ _ _\n",
            "D: _ _ _ _ _ _ _ _ _ _ _ _ _ Your daily look into the <0>^ lives of our favorite celebs .\n",
            "L: Natalie Wood Case : Boat Captain Did n't Hear Her Cries For Help ( VIDEO ) ~ _ _ _ _ _ _ _ _\n",
            "H: ~ Natalie Wood Case : Boat Captain Did n't Hear Her Cries For Help ( VIDEO ) _ _ _ _ _ _ _ _\n",
            "D: Many questions still remain in the case surrounding actress Natalie Wood 's mysterious death , but one person who was on the boat is opening\n",
            "L: The Beautiful Water Cube In Beijing Is Now A Water Theme Park ~ _ _ _ _ _ _ _ _ _ _ _ _\n",
            "H: ~ The Beautiful Water Cube In Beijing Is Now A Water Theme Park _ _ _ _ _ _ _ _ _ _ _ _\n",
            "D: They 're marveled and <0>^ at during the games , but after the festivities , they 're forgotten and left to Rust . China is\n",
            "L: Real Housewives of New Jersey : The revelation of Kim G . ~ _ _ _ _ _ _ _ _ _ _ _ _\n",
            "H: ~ Real Housewives of New Jersey : The revelation of Kim G . _ _ _ _ _ _ _ _ _ _ _ _\n",
            "D: that the fights and clashes on the Real Housewives of New Jersey come out of nowhere , but they have all been resurrection by a\n"
          ],
          "name": "stdout"
        }
      ]
    },
    {
      "cell_type": "markdown",
      "metadata": {
        "id": "9MSWEW0rykvU",
        "colab_type": "text"
      },
      "source": [
        "test fliping"
      ]
    },
    {
      "cell_type": "code",
      "metadata": {
        "id": "xj2ldr2qykvU",
        "colab_type": "code",
        "outputId": "826df836-2670-47f6-cf43-53d665fe3064",
        "colab": {}
      },
      "source": [
        "test_gen(gen(X_train, Y_train, nflips=6, model=model, debug=False, batch_size=batch_size))"
      ],
      "execution_count": 0,
      "outputs": [
        {
          "output_type": "stream",
          "text": [
            "L: Rockets GM Daryl O'Keefe Has A implausible And geometry Reason For Giving Money To Mitt Romney ~ _ _ _ _ _ _ _ _\n",
            "H: ~ The GM Daryl O'Keefe Has A <0>^ And geometry Reason For Giving Him To Mitt Romney _ _ _ _ _ _ _ _\n",
            "D: personal views , but no one really seems to like Mitt for his essential <0>^ . But Daryl O'Keefe , the Houston Rockets general manager\n",
            "L: Today 's Celebrity Twitter Chatter ~ _ _ _ _ _ _ _ _ _ _ _ _ _ _ _ _ _ _ _\n",
            "H: ~ Today 's Celebrity Twitter Chatter _ _ _ _ _ _ _ _ _ _ _ _ _ _ _ _ _ _ _\n",
            "D: _ _ _ _ _ _ _ _ _ _ _ _ _ Your daily look into the <0>^ lives of our favorite celebs .\n",
            "L: Natalie Wood Case : Boat Captain Did n't Hear Her Cries For Help ( VIDEO ) ~ _ _ _ _ _ _ _ _\n",
            "H: ~ Natalie Wood : : Natalie Captain ~ n't Hear Her Cries For Help ( VIDEO ) _ _ _ _ _ _ _ _\n",
            "D: Many questions still remain in the case surrounding actress Natalie Wood 's mysterious death , but one person who was on the boat is opening\n",
            "L: The Beautiful Water Cube In Beijing Is Now A Water Theme Park ~ _ _ _ _ _ _ _ _ _ _ _ _\n",
            "H: ~ The World Water Cube In Beijing Is Now A ~ Theme Park _ _ _ _ _ _ _ _ _ _ _ _\n",
            "D: They 're marveled and <0>^ at during the games , but after the festivities , they 're forgotten and left to Rust . China is\n",
            "L: Real Housewives of New Jersey : The revelation of Kim G . ~ _ _ _ _ _ _ _ _ _ _ _ _\n",
            "H: ~ Real Housewives of New Jersey : The revelation of Kim Kardashian . _ _ _ _ _ _ _ _ _ _ _ _\n",
            "D: that the fights and clashes on the Real Housewives of New Jersey come out of nowhere , but they have all been resurrection by a\n"
          ],
          "name": "stdout"
        }
      ]
    },
    {
      "cell_type": "code",
      "metadata": {
        "id": "f_ihBekbykvW",
        "colab_type": "code",
        "colab": {}
      },
      "source": [
        "valgen = gen(X_test, Y_test,nb_batches=3, batch_size=batch_size)"
      ],
      "execution_count": 0,
      "outputs": []
    },
    {
      "cell_type": "markdown",
      "metadata": {
        "id": "Z0fMa02JykvY",
        "colab_type": "text"
      },
      "source": [
        "check that valgen repeats itself after nb_batches"
      ]
    },
    {
      "cell_type": "code",
      "metadata": {
        "id": "98Uv-Z35ykvY",
        "colab_type": "code",
        "outputId": "cf5eda41-d371-444d-d77d-53d4e5268f15",
        "colab": {}
      },
      "source": [
        "for i in range(4):\n",
        "    test_gen(valgen, n=1)"
      ],
      "execution_count": 0,
      "outputs": [
        {
          "output_type": "stream",
          "text": [
            "L: Dell Releases Draft 802.11n Wireless Card ~ _ _ _ _ _ _ _ _ _ _ _ _ _ _ _ _ _ _\n",
            "H: ~ Dell Releases Draft 802.11n Wireless Card _ _ _ _ _ _ _ _ _ _ _ _ _ _ _ _ _ _\n",
            "D: the all the problems that draft N has been facing , we 're glad they 're releasing this as an WhatsApp card and not embedding\n",
            "L: Can You Identify a Mystery Cocoon Which Has the Whole Internet stumped ? ~ _ _ _ _ _ _ _ _ _ _ _\n",
            "H: ~ Can You Identify a Mystery Cocoon Which Has the Whole Internet stumped ? _ _ _ _ _ _ _ _ _ _ _\n",
            "D: Usually , throw the internet an image of something you ca n't identify and it 's only a couple of minutes until you 're bombarded\n",
            "L: <0>^ ~ _ _ _ _ _ _ _ _ _ _ _ _ _ _ _ _ _ _ _ _ _ _ _\n",
            "H: ~ <0>^ _ _ _ _ _ _ _ _ _ _ _ _ _ _ _ _ _ _ _ _ _ _ _\n",
            "D: _ _ _ _ _ _ _ Whoa whoa whoa . Wait a second . You 're telling me there 's no liquid cooling ?\n",
            "L: Dell Releases Draft 802.11n Wireless Card ~ _ _ _ _ _ _ _ _ _ _ _ _ _ _ _ _ _ _\n",
            "H: ~ Dell Releases Draft 802.11n Wireless Card _ _ _ _ _ _ _ _ _ _ _ _ _ _ _ _ _ _\n",
            "D: the all the problems that draft N has been facing , we 're glad they 're releasing this as an WhatsApp card and not embedding\n"
          ],
          "name": "stdout"
        }
      ]
    },
    {
      "cell_type": "markdown",
      "metadata": {
        "id": "cPGud1Xiykvi",
        "colab_type": "text"
      },
      "source": [
        "# Train"
      ]
    },
    {
      "cell_type": "code",
      "metadata": {
        "id": "uza6pYkbykvi",
        "colab_type": "code",
        "colab": {}
      },
      "source": [
        "history = {}"
      ],
      "execution_count": 0,
      "outputs": []
    },
    {
      "cell_type": "code",
      "metadata": {
        "id": "7-mYUyDlykvl",
        "colab_type": "code",
        "colab": {}
      },
      "source": [
        "traingen = gen(X_train, Y_train, batch_size=batch_size, nflips=nflips, model=model)\n",
        "valgen = gen(X_test, Y_test, nb_batches=nb_val_samples//batch_size, batch_size=batch_size)"
      ],
      "execution_count": 0,
      "outputs": []
    },
    {
      "cell_type": "code",
      "metadata": {
        "id": "wfi5l3tqykvo",
        "colab_type": "code",
        "outputId": "15f67ccd-b329-48cc-f822-2b6e7620db11",
        "colab": {}
      },
      "source": [
        "r = next(traingen)\n",
        "r[0].shape, r[1].shape, len(r)"
      ],
      "execution_count": 0,
      "outputs": [
        {
          "output_type": "execute_result",
          "data": {
            "text/plain": [
              "((64, 50), (64, 25, 40000), 2)"
            ]
          },
          "metadata": {
            "tags": []
          },
          "execution_count": 59
        }
      ]
    },
    {
      "cell_type": "code",
      "metadata": {
        "id": "K8-sw_aGykvr",
        "colab_type": "code",
        "colab": {}
      },
      "source": [
        "for iteration in range(500):\n",
        "    print 'Iteration', iteration\n",
        "    h = model.fit_generator(traingen, samples_per_epoch=nb_train_samples,\n",
        "                        nb_epoch=1, validation_data=valgen, nb_val_samples=nb_val_samples\n",
        "                           )\n",
        "    for k,v in h.history.iteritems():\n",
        "        history[k] = history.get(k,[]) + v\n",
        "    with open('data/%s.history.pkl'%FN,'wb') as fp:\n",
        "        pickle.dump(history,fp,-1)\n",
        "    model.save_weights('data/%s.hdf5'%FN, overwrite=True)\n",
        "    gensamples(batch_size=batch_size)"
      ],
      "execution_count": 0,
      "outputs": []
    }
  ]
}